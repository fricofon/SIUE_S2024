{
  "nbformat": 4,
  "nbformat_minor": 0,
  "metadata": {
    "colab": {
      "provenance": [],
      "authorship_tag": "ABX9TyOCtbPwArVYffK5oC0OBs2a",
      "include_colab_link": true
    },
    "kernelspec": {
      "name": "python3",
      "display_name": "Python 3"
    },
    "language_info": {
      "name": "python"
    }
  },
  "cells": [
    {
      "cell_type": "markdown",
      "metadata": {
        "id": "view-in-github",
        "colab_type": "text"
      },
      "source": [
        "<a href=\"https://colab.research.google.com/github/fricofon/SIUE_S2024/blob/main/Week1.ipynb\" target=\"_parent\"><img src=\"https://colab.research.google.com/assets/colab-badge.svg\" alt=\"Open In Colab\"/></a>"
      ]
    },
    {
      "cell_type": "markdown",
      "source": [
        "# **Week 1: Introduction to Predictive Analytics for Business**\n",
        "\n",
        "\n"
      ],
      "metadata": {
        "id": "X4SAdxcA3cdf"
      }
    },
    {
      "cell_type": "markdown",
      "source": [
        "**Business Foundational Python Functionality**\n",
        "\n",
        "What's Python?\n",
        "Python is a general-purpose programming language conceived in 1989 by Dutch programmer Guido van Rossum. Python (https://www.python.org/) is free and open source, with development coordinated through the Python Software Foundation.\n",
        "\n",
        "According to the Stackoverflow Developer Survey in 2022, Python is one of the most used popular programming languages. Python is the third most popular language among professionals and people learning to code which amounted to almost 48.07% of the total respondents. Also, if you look at the most wanted and dreaded technologies, Python was the second-most loved programming language which is almost similar in the percentage to the top-most loved technology.\n",
        "\n",
        "**Why is Python so popular?**\n",
        "\n",
        "\n",
        "*   Simple and easy to learn\n",
        "*   Many powerful libraries supported by a large community\n",
        "*   Many resources available online\n",
        "*   Cross-platform support\n",
        "\n",
        "**How is Python used?**\n",
        "\n",
        "\n",
        "\n",
        "*   Data Analysis and visualization\n",
        "*   Machine Learning\n",
        "*   Web application development\n",
        "*   Softwate testing\n",
        "*   Game development\n",
        "*   Automation scripts\n",
        "\n",
        "\n",
        "**Companies using Python**\n",
        "\n",
        "Top tech companies like Google, Facebook, YouTube, Instagram, Spotify, Reddit, BitTorrent, Intel, and IBM, use Python for their top-notch applications.\n",
        "\n",
        "Sources: [Python Programming for Economics and Finance](https://python-programming.quantecon.org/intro.html); [Python Circle](https://pythoncircle.com/post/763/the-rising-popularity-of-python/)."
      ],
      "metadata": {
        "id": "V9X44p0M-JiJ"
      }
    },
    {
      "cell_type": "markdown",
      "source": [
        "## **Installing Python**\n",
        "**Option 1: Cloud**\n",
        "\n",
        "The easiest way to get started coding in Python is by running it using a remote server that already has Python installed.\n",
        "There are many options for doing this, both free and paid.\n",
        "At present [Google Colab](https://colab.research.google.com/) seems to be the most reliable.\n",
        "Colab offers a free tier and also has the advantage of providing GPUs. The free-tier GPUs are adequate and better ones can be accessed by signing up for Colab Pro.\n",
        "\n",
        "\n",
        "**Option 2: local Install**\n",
        "\n",
        "[Jupiter using Anaconda](https://docs.jupyter.org/en/latest/install/notebook-classic.html)\n",
        "\n",
        "We recommend using the [Anaconda](https://www.anaconda.com/download) distribution to install Python and Jupyter.\n",
        "\n",
        "Anaconda conveniently installs Python, the Jupyter Notebook, and other commonly used packages for scientific computing and data science.\n",
        "\n",
        "Use the following installation steps:\n",
        "\n",
        "*   Download Anaconda. We recommend downloading Anaconda’s latest Python 3 version (currently Python 3.9).\n",
        "\n",
        "*   Install the version of Anaconda which you downloaded, following the instructions on the download page.\n",
        "\n",
        "*    [Running the notebook](https://docs.jupyter.org/en/latest/running.html#running)\n"
      ],
      "metadata": {
        "id": "ps1-LC7JHo_7"
      }
    },
    {
      "cell_type": "code",
      "source": [],
      "metadata": {
        "id": "CmNK-5u05Vj0"
      },
      "execution_count": null,
      "outputs": []
    },
    {
      "cell_type": "code",
      "source": [],
      "metadata": {
        "id": "lqd1g-8t5bY9"
      },
      "execution_count": null,
      "outputs": []
    },
    {
      "cell_type": "code",
      "source": [],
      "metadata": {
        "id": "psjB1X7g5a-Z"
      },
      "execution_count": null,
      "outputs": []
    }
  ]
}